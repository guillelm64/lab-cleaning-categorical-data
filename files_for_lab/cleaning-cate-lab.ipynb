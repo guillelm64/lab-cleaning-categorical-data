{
 "cells": [
  {
   "cell_type": "code",
   "execution_count": null,
   "id": "55f4de5f",
   "metadata": {},
   "outputs": [],
   "source": [
    "#  1. Import the necessary libraries if you are starting a new notebook. \n",
    "#Using the same data as the previous lab: we_fn_use_c_marketing_customer_value_analysis.csv\n",
    "\n",
    "import pandas as pd\n",
    "import seaborn as sns\n",
    "import matplotlib.pyplot as plt\n",
    "import numpy as np\n",
    "\n",
    "customer_df = pd.read_csv('we_fn_use_c_marketing_customer_value_analysis.csv')"
   ]
  },
  {
   "cell_type": "code",
   "execution_count": null,
   "id": "e6a2b7de",
   "metadata": {},
   "outputs": [],
   "source": [
    "# 2. Find all of the categorical data. Save it in a categorical_df variable.\n",
    "\n",
    "categorical_df = customer_df.select_dtypes(include = object)\n",
    "categorical_df.columns = categorical_df.columns.str.lower()\n",
    "categorical_df.columns = categorical_df.columns.str.replace(' ', '_')\n",
    "categorical_df.head()\n"
   ]
  },
  {
   "cell_type": "code",
   "execution_count": null,
   "id": "17ebb103",
   "metadata": {},
   "outputs": [],
   "source": [
    "# 3. Check for NaN values.\n",
    "categorical_df.isna().sum()"
   ]
  },
  {
   "cell_type": "code",
   "execution_count": null,
   "id": "1004a3de",
   "metadata": {},
   "outputs": [],
   "source": [
    "# 4. Check all unique values of columns.\n",
    "categorical_df.nunique()"
   ]
  },
  {
   "cell_type": "code",
   "execution_count": null,
   "id": "09473a3a",
   "metadata": {},
   "outputs": [],
   "source": [
    "# 5. Check dtypes. Do they all make sense as categorical data?\n",
    "categorical_df.dtypes"
   ]
  },
  {
   "cell_type": "code",
   "execution_count": null,
   "id": "b9548192",
   "metadata": {},
   "outputs": [],
   "source": [
    "# 6. Does any column contain alpha and numeric data? Decide how to clean it.\n",
    "categorical_df['Effective To Date'] = pd.to_datetime(customer_df['Effective To Date'])"
   ]
  },
  {
   "cell_type": "code",
   "execution_count": null,
   "id": "1cf65c3e",
   "metadata": {},
   "outputs": [],
   "source": [
    "def cleaning_alpha_numeric(x):\n",
    "    if '1' in x:\n",
    "        x = x.replace('1', 'A')\n",
    "        return x\n",
    "    elif '2' in x:\n",
    "        x = x.replace('2', 'B')\n",
    "        return x\n",
    "    elif '3' in x:\n",
    "        x = x.replace('3', 'C')\n",
    "        return x\n",
    "    else:\n",
    "        x = x.replace('4', 'D')\n",
    "        return x\n",
    "    \n",
    "\n",
    "categorical_df['policy'] = categorical_df['policy'].apply(cleaning_alpha_numeric)\n",
    "categorical_df['policy']"
   ]
  },
  {
   "cell_type": "code",
   "execution_count": null,
   "id": "7f6518a6",
   "metadata": {},
   "outputs": [],
   "source": [
    "categorical_df['renew_offer_type'] =categorical_df['renew_offer_type'].apply(cleaning_alpha_numeric) \n",
    "categorical_df['renew_offer_type']"
   ]
  },
  {
   "cell_type": "code",
   "execution_count": null,
   "id": "5ed3aebf",
   "metadata": {},
   "outputs": [],
   "source": [
    "display(categorical_df['policy'].value_counts())\n",
    "display(categorical_df['renew_offer_type'].value_counts()) "
   ]
  },
  {
   "cell_type": "code",
   "execution_count": null,
   "id": "f7af9638",
   "metadata": {},
   "outputs": [],
   "source": [
    "# 7. Would you choose to do anything else to clean or wrangle the categorical data? Comment your decisions.\n"
   ]
  },
  {
   "cell_type": "code",
   "execution_count": null,
   "id": "1cc9d792",
   "metadata": {},
   "outputs": [],
   "source": []
  },
  {
   "cell_type": "code",
   "execution_count": null,
   "id": "5d0bfe31",
   "metadata": {},
   "outputs": [],
   "source": [
    "categorical_df.head()"
   ]
  },
  {
   "cell_type": "code",
   "execution_count": null,
   "id": "57da7a75",
   "metadata": {},
   "outputs": [],
   "source": [
    "# 8. Compare policy_type and policy. What information is contained in these columns. Can you identify what is important?\n",
    "categorical_df.groupby(['policy_type', 'policy']).agg({'gender': 'count'})"
   ]
  },
  {
   "cell_type": "code",
   "execution_count": null,
   "id": "ea9479ac",
   "metadata": {},
   "outputs": [],
   "source": []
  },
  {
   "cell_type": "code",
   "execution_count": null,
   "id": "1b9a3403",
   "metadata": {},
   "outputs": [],
   "source": [
    "# 9. Check number of unique values in each column, can they be combined in any way to ease encoding? \n",
    "#Comment your thoughts and make those changes."
   ]
  },
  {
   "cell_type": "code",
   "execution_count": null,
   "id": "72755035",
   "metadata": {},
   "outputs": [],
   "source": [
    "for i in categorical_df:\n",
    "    print(i,'unique values',categorical_df[i].nunique())"
   ]
  },
  {
   "cell_type": "code",
   "execution_count": null,
   "id": "91cb6184",
   "metadata": {},
   "outputs": [],
   "source": [
    "# we can differentiate ordinal and nominal values. \n"
   ]
  },
  {
   "cell_type": "code",
   "execution_count": null,
   "id": "d60f18fe",
   "metadata": {},
   "outputs": [],
   "source": []
  }
 ],
 "metadata": {
  "kernelspec": {
   "display_name": "Python 3 (ipykernel)",
   "language": "python",
   "name": "python3"
  },
  "language_info": {
   "codemirror_mode": {
    "name": "ipython",
    "version": 3
   },
   "file_extension": ".py",
   "mimetype": "text/x-python",
   "name": "python",
   "nbconvert_exporter": "python",
   "pygments_lexer": "ipython3",
   "version": "3.9.12"
  }
 },
 "nbformat": 4,
 "nbformat_minor": 5
}
